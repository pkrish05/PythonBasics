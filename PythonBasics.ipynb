{
  "nbformat": 4,
  "nbformat_minor": 0,
  "metadata": {
    "colab": {
      "name": "PythonBasics.ipynb",
      "provenance": [],
      "collapsed_sections": [],
      "include_colab_link": true
    },
    "kernelspec": {
      "name": "python3",
      "display_name": "Python 3"
    }
  },
  "cells": [
    {
      "cell_type": "markdown",
      "metadata": {
        "id": "view-in-github",
        "colab_type": "text"
      },
      "source": [
        "<a href=\"https://colab.research.google.com/github/pkrish05/PythonBasics/blob/main/PythonBasics.ipynb\" target=\"_parent\"><img src=\"https://colab.research.google.com/assets/colab-badge.svg\" alt=\"Open In Colab\"/></a>"
      ]
    },
    {
      "cell_type": "markdown",
      "metadata": {
        "id": "5Jh9063TXrfg"
      },
      "source": [
        ""
      ]
    },
    {
      "cell_type": "code",
      "metadata": {
        "id": "uTa-SNnPRKbE",
        "colab": {
          "base_uri": "https://localhost:8080/"
        },
        "outputId": "9e39119d-298d-48d8-b107-68eaa78bdb4b"
      },
      "source": [
        "import numpy as np\n",
        "import random as rd\n",
        "print(rd.randint(1, 5))"
      ],
      "execution_count": null,
      "outputs": [
        {
          "output_type": "stream",
          "text": [
            "1\n"
          ],
          "name": "stdout"
        },
        {
          "output_type": "execute_result",
          "data": {
            "text/plain": [
              "2"
            ]
          },
          "metadata": {
            "tags": []
          },
          "execution_count": 43
        }
      ]
    },
    {
      "cell_type": "code",
      "metadata": {
        "id": "g0T8FlUnRNPE",
        "colab": {
          "base_uri": "https://localhost:8080/"
        },
        "outputId": "a489d956-ad19-4796-a9f2-52795d9c7e7a"
      },
      "source": [
        "def KrishSort(L):\n",
        "  for i in range(len(L)): # goes from 0 to len(L) - 1\n",
        "    for j in range(0,i): # goes from 0 to i\n",
        "      if L[j] > L[i]:\n",
        "        L[i], L[j] = L[j], L[i]\n",
        "  return L\n",
        "\n",
        "L=[1, 7, 2, 9, 14, 3, 6, 5]\n",
        "KrishSort(L)"
      ],
      "execution_count": 69,
      "outputs": [
        {
          "output_type": "stream",
          "text": [
            "[1, 7, 2, 9, 14, 3, 6, 5] j: 1 i: 2\n",
            "[1, 2, 7, 9, 14, 3, 6, 5] j: 2 i: 5\n",
            "[1, 2, 3, 9, 14, 7, 6, 5] j: 3 i: 5\n",
            "[1, 2, 3, 7, 14, 9, 6, 5] j: 4 i: 5\n",
            "[1, 2, 3, 7, 9, 14, 6, 5] j: 3 i: 6\n",
            "[1, 2, 3, 6, 9, 14, 7, 5] j: 4 i: 6\n",
            "[1, 2, 3, 6, 7, 14, 9, 5] j: 5 i: 6\n",
            "[1, 2, 3, 6, 7, 9, 14, 5] j: 3 i: 7\n",
            "[1, 2, 3, 5, 7, 9, 14, 6] j: 4 i: 7\n",
            "[1, 2, 3, 5, 6, 9, 14, 7] j: 5 i: 7\n",
            "[1, 2, 3, 5, 6, 7, 14, 9] j: 6 i: 7\n"
          ],
          "name": "stdout"
        },
        {
          "output_type": "execute_result",
          "data": {
            "text/plain": [
              "[1, 2, 3, 5, 6, 7, 9, 14]"
            ]
          },
          "metadata": {
            "tags": []
          },
          "execution_count": 69
        }
      ]
    },
    {
      "cell_type": "code",
      "metadata": {
        "colab": {
          "base_uri": "https://localhost:8080/"
        },
        "id": "Co-krBK2fuSB",
        "outputId": "20a91c0b-83c2-464f-f6ca-2928b5b367ba"
      },
      "source": [
        "def InsertionSort(L):\n",
        "  n=len(L)\n",
        "  for i in range(1,n):\n",
        "    x=L[i]\n",
        "    j=i\n",
        "    while j>0 and L[j-1]>x:\n",
        "      L[j]=L[j-1]\n",
        "      j=j-1\n",
        "    L[j]=x\n",
        "  return L\n",
        "L=[1, 7, 2, 9, 14, 3, 6, 5,45,32,21,57,78,22,40,34,23,17,13,18,83,61]\n",
        "InsertionSort(L)\n",
        "\n",
        "\n",
        "\n"
      ],
      "execution_count": 81,
      "outputs": [
        {
          "output_type": "execute_result",
          "data": {
            "text/plain": [
              "[1,\n",
              " 2,\n",
              " 3,\n",
              " 5,\n",
              " 6,\n",
              " 7,\n",
              " 9,\n",
              " 13,\n",
              " 14,\n",
              " 17,\n",
              " 18,\n",
              " 21,\n",
              " 22,\n",
              " 23,\n",
              " 32,\n",
              " 34,\n",
              " 40,\n",
              " 45,\n",
              " 57,\n",
              " 61,\n",
              " 78,\n",
              " 83]"
            ]
          },
          "metadata": {
            "tags": []
          },
          "execution_count": 81
        }
      ]
    }
  ]
}